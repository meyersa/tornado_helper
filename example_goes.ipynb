{
 "cells": [
  {
   "cell_type": "markdown",
   "metadata": {},
   "source": [
    "# Install the package"
   ]
  },
  {
   "cell_type": "code",
   "execution_count": 1,
   "metadata": {},
   "outputs": [
    {
     "name": "stdout",
     "output_type": "stream",
     "text": [
      "Looking in links: .\n",
      "Collecting tornado_helper\n",
      "  Downloading tornado_helper-1.5.1-py3-none-any.whl.metadata (423 bytes)\n",
      "Downloading tornado_helper-1.5.1-py3-none-any.whl (9.2 kB)\n",
      "Installing collected packages: tornado_helper\n",
      "  Attempting uninstall: tornado_helper\n",
      "    Found existing installation: tornado_helper 1.5.1\n",
      "    Uninstalling tornado_helper-1.5.1:\n",
      "      Successfully uninstalled tornado_helper-1.5.1\n",
      "Successfully installed tornado_helper-1.5.1\n",
      "Note: you may need to restart the kernel to use updated packages.\n"
     ]
    }
   ],
   "source": [
    "%pip install tornado_helper --upgrade --no-cache-dir --find-links=. --force-reinstall --no-deps"
   ]
  },
  {
   "cell_type": "markdown",
   "metadata": {},
   "source": [
    "# Import and utilize methods\n",
    "- `download` to download all\n",
    "- `downloadSeg` to download a segment (for training on smaller sizes)"
   ]
  },
  {
   "cell_type": "code",
   "execution_count": null,
   "metadata": {},
   "outputs": [],
   "source": [
    "from tornado_helper import GOES\n",
    "\n",
    "goesHelper = GOES(partial=True)\n",
    "goesHelper.download(single=True)"
   ]
  }
 ],
 "metadata": {
  "kernelspec": {
   "display_name": ".venv",
   "language": "python",
   "name": "python3"
  },
  "language_info": {
   "codemirror_mode": {
    "name": "ipython",
    "version": 3
   },
   "file_extension": ".py",
   "mimetype": "text/x-python",
   "name": "python",
   "nbconvert_exporter": "python",
   "pygments_lexer": "ipython3",
   "version": "3.9.13"
  }
 },
 "nbformat": 4,
 "nbformat_minor": 2
}
