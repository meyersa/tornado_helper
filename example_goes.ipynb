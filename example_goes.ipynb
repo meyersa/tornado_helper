{
 "cells": [
  {
   "cell_type": "markdown",
   "metadata": {},
   "source": [
    "# Install the package"
   ]
  },
  {
   "cell_type": "code",
   "execution_count": 4,
   "metadata": {},
   "outputs": [
    {
     "name": "stdout",
     "output_type": "stream",
     "text": [
      "Looking in links: .\n",
      "Collecting tornado_helper\n",
      "  Downloading tornado_helper-2.0.1-py3-none-any.whl.metadata (445 bytes)\n",
      "Downloading tornado_helper-2.0.1-py3-none-any.whl (10 kB)\n",
      "Installing collected packages: tornado_helper\n",
      "  Attempting uninstall: tornado_helper\n",
      "    Found existing installation: tornado_helper 2.0.1\n",
      "    Uninstalling tornado_helper-2.0.1:\n",
      "      Successfully uninstalled tornado_helper-2.0.1\n",
      "Successfully installed tornado_helper-2.0.1\n",
      "Note: you may need to restart the kernel to use updated packages.\n"
     ]
    }
   ],
   "source": [
    "%pip install tornado_helper --upgrade --no-cache-dir --find-links=. --force-reinstall --no-deps"
   ]
  },
  {
   "cell_type": "code",
   "execution_count": 1,
   "metadata": {},
   "outputs": [],
   "source": [
    "from importlib import reload\n",
    "import logging\n",
    "import sys \n",
    "reload(logging)\n",
    "logging.basicConfig(stream=sys.stdout, level=logging.DEBUG)\n"
   ]
  },
  {
   "cell_type": "markdown",
   "metadata": {},
   "source": [
    "# Import and utilize methods\n",
    "- `catalog` to get the catalog then download with\n",
    "- `download` to download the actual nc files"
   ]
  },
  {
   "cell_type": "code",
   "execution_count": null,
   "metadata": {},
   "outputs": [],
   "source": [
    "from tornado_helper import GOES\n",
    "\n",
    "goesHelper = GOES() \n",
    "goesHelper.catalog(2017, raw=True)"
   ]
  }
 ],
 "metadata": {
  "kernelspec": {
   "display_name": ".venv",
   "language": "python",
   "name": "python3"
  },
  "language_info": {
   "codemirror_mode": {
    "name": "ipython",
    "version": 3
   },
   "file_extension": ".py",
   "mimetype": "text/x-python",
   "name": "python",
   "nbconvert_exporter": "python",
   "pygments_lexer": "ipython3",
   "version": "3.9.21"
  }
 },
 "nbformat": 4,
 "nbformat_minor": 2
}
