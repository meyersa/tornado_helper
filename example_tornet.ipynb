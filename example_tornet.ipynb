{
 "cells": [
  {
   "cell_type": "markdown",
   "metadata": {},
   "source": [
    "# Install the package"
   ]
  },
  {
   "cell_type": "code",
   "execution_count": 2,
   "metadata": {},
   "outputs": [
    {
     "name": "stdout",
     "output_type": "stream",
     "text": [
      "Looking in links: .\n",
      "Collecting tornado_helper\n",
      "  Downloading tornado_helper-2.0.1-py3-none-any.whl.metadata (445 bytes)\n",
      "Downloading tornado_helper-2.0.1-py3-none-any.whl (10 kB)\n",
      "Installing collected packages: tornado_helper\n",
      "  Attempting uninstall: tornado_helper\n",
      "    Found existing installation: tornado_helper 2.0.1\n",
      "    Uninstalling tornado_helper-2.0.1:\n",
      "      Successfully uninstalled tornado_helper-2.0.1\n",
      "Successfully installed tornado_helper-2.0.1\n",
      "Note: you may need to restart the kernel to use updated packages.\n"
     ]
    }
   ],
   "source": [
    "%pip install tornado_helper --upgrade --no-cache-dir --find-links=. --force-reinstall --no-deps"
   ]
  },
  {
   "cell_type": "code",
   "execution_count": 1,
   "metadata": {},
   "outputs": [],
   "source": [
    "from importlib import reload\n",
    "import logging\n",
    "import sys \n",
    "reload(logging)\n",
    "logging.basicConfig(stream=sys.stdout, level=logging.DEBUG)\n"
   ]
  },
  {
   "cell_type": "markdown",
   "metadata": {},
   "source": [
    "# Import and utilize methods\n",
    "- `download` to download all\n",
    "\n",
    "Depending on the methods used to initialize, this will download directly from Zenodo or a bucket and will be either the full or partial amount"
   ]
  },
  {
   "cell_type": "code",
   "execution_count": null,
   "metadata": {},
   "outputs": [],
   "source": [
    "from tornado_helper import TorNet\n",
    "\n",
    "torHelper = TorNet()\n",
    "torHelper.download(year=2013)"
   ]
  }
 ],
 "metadata": {
  "kernelspec": {
   "display_name": ".venv",
   "language": "python",
   "name": "python3"
  },
  "language_info": {
   "codemirror_mode": {
    "name": "ipython",
    "version": 3
   },
   "file_extension": ".py",
   "mimetype": "text/x-python",
   "name": "python",
   "nbconvert_exporter": "python",
   "pygments_lexer": "ipython3",
   "version": "3.9.21"
  }
 },
 "nbformat": 4,
 "nbformat_minor": 2
}
