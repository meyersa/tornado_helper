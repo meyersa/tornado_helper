{
 "cells": [
  {
   "cell_type": "markdown",
   "metadata": {},
   "source": [
    "# Install the package"
   ]
  },
  {
   "cell_type": "code",
   "execution_count": null,
   "metadata": {},
   "outputs": [],
   "source": [
    "%pip install tornado_helper"
   ]
  },
  {
   "cell_type": "markdown",
   "metadata": {},
   "source": [
    "# Import and utilize methods\n",
    "- `catalog` to get the catalog then download with\n",
    "- `download` to download the actual nc files"
   ]
  },
  {
   "cell_type": "code",
   "execution_count": 4,
   "metadata": {},
   "outputs": [
    {
     "data": {
      "text/html": [
       "<div>\n",
       "<style scoped>\n",
       "    .dataframe tbody tr th:only-of-type {\n",
       "        vertical-align: middle;\n",
       "    }\n",
       "\n",
       "    .dataframe tbody tr th {\n",
       "        vertical-align: top;\n",
       "    }\n",
       "\n",
       "    .dataframe thead th {\n",
       "        text-align: right;\n",
       "    }\n",
       "</style>\n",
       "<table border=\"1\" class=\"dataframe\">\n",
       "  <thead>\n",
       "    <tr style=\"text-align: right;\">\n",
       "      <th></th>\n",
       "      <th>Unnamed: 0</th>\n",
       "      <th>nc_filename</th>\n",
       "      <th>satellite</th>\n",
       "      <th>year</th>\n",
       "      <th>julian Day</th>\n",
       "      <th>hour</th>\n",
       "      <th>datetime</th>\n",
       "      <th>region</th>\n",
       "    </tr>\n",
       "  </thead>\n",
       "  <tbody>\n",
       "    <tr>\n",
       "      <th>0</th>\n",
       "      <td>0</td>\n",
       "      <td>ABI-L2-MCMIPC/2017/059/00/OR_ABI-L2-MCMIPC-M3_...</td>\n",
       "      <td>noaa-goes16</td>\n",
       "      <td>2017</td>\n",
       "      <td>59</td>\n",
       "      <td>0</td>\n",
       "      <td>2017-02-28 00:02:50+00:00</td>\n",
       "      <td>east</td>\n",
       "    </tr>\n",
       "    <tr>\n",
       "      <th>1</th>\n",
       "      <td>1</td>\n",
       "      <td>ABI-L2-MCMIPC/2017/059/00/OR_ABI-L2-MCMIPC-M3_...</td>\n",
       "      <td>noaa-goes16</td>\n",
       "      <td>2017</td>\n",
       "      <td>59</td>\n",
       "      <td>0</td>\n",
       "      <td>2017-02-28 00:07:50+00:00</td>\n",
       "      <td>east</td>\n",
       "    </tr>\n",
       "    <tr>\n",
       "      <th>2</th>\n",
       "      <td>2</td>\n",
       "      <td>ABI-L2-MCMIPC/2017/059/00/OR_ABI-L2-MCMIPC-M3_...</td>\n",
       "      <td>noaa-goes16</td>\n",
       "      <td>2017</td>\n",
       "      <td>59</td>\n",
       "      <td>0</td>\n",
       "      <td>2017-02-28 00:12:50+00:00</td>\n",
       "      <td>east</td>\n",
       "    </tr>\n",
       "    <tr>\n",
       "      <th>3</th>\n",
       "      <td>3</td>\n",
       "      <td>ABI-L2-MCMIPC/2017/059/00/OR_ABI-L2-MCMIPC-M3_...</td>\n",
       "      <td>noaa-goes16</td>\n",
       "      <td>2017</td>\n",
       "      <td>59</td>\n",
       "      <td>0</td>\n",
       "      <td>2017-02-28 00:17:50+00:00</td>\n",
       "      <td>east</td>\n",
       "    </tr>\n",
       "    <tr>\n",
       "      <th>4</th>\n",
       "      <td>4</td>\n",
       "      <td>ABI-L2-MCMIPC/2017/059/00/OR_ABI-L2-MCMIPC-M3_...</td>\n",
       "      <td>noaa-goes16</td>\n",
       "      <td>2017</td>\n",
       "      <td>59</td>\n",
       "      <td>0</td>\n",
       "      <td>2017-02-28 00:22:50+00:00</td>\n",
       "      <td>east</td>\n",
       "    </tr>\n",
       "  </tbody>\n",
       "</table>\n",
       "</div>"
      ],
      "text/plain": [
       "   Unnamed: 0                                        nc_filename    satellite  \\\n",
       "0           0  ABI-L2-MCMIPC/2017/059/00/OR_ABI-L2-MCMIPC-M3_...  noaa-goes16   \n",
       "1           1  ABI-L2-MCMIPC/2017/059/00/OR_ABI-L2-MCMIPC-M3_...  noaa-goes16   \n",
       "2           2  ABI-L2-MCMIPC/2017/059/00/OR_ABI-L2-MCMIPC-M3_...  noaa-goes16   \n",
       "3           3  ABI-L2-MCMIPC/2017/059/00/OR_ABI-L2-MCMIPC-M3_...  noaa-goes16   \n",
       "4           4  ABI-L2-MCMIPC/2017/059/00/OR_ABI-L2-MCMIPC-M3_...  noaa-goes16   \n",
       "\n",
       "   year  julian Day  hour                  datetime region  \n",
       "0  2017          59     0 2017-02-28 00:02:50+00:00   east  \n",
       "1  2017          59     0 2017-02-28 00:07:50+00:00   east  \n",
       "2  2017          59     0 2017-02-28 00:12:50+00:00   east  \n",
       "3  2017          59     0 2017-02-28 00:17:50+00:00   east  \n",
       "4  2017          59     0 2017-02-28 00:22:50+00:00   east  "
      ]
     },
     "execution_count": 4,
     "metadata": {},
     "output_type": "execute_result"
    }
   ],
   "source": [
    "from tornado_helper import GOES\n",
    "\n",
    "goesHelper = GOES() \n",
    "\n",
    "# Get a data frame for a specific year\n",
    "df = goesHelper.catalog(year=2017)\n",
    "df.head()"
   ]
  },
  {
   "cell_type": "code",
   "execution_count": null,
   "metadata": {},
   "outputs": [],
   "source": [
    "# Build df from S3\n",
    "df = goesHelper.catalog(raw=True)\n",
    "df.to_csv(\"data_goes/goes.csv\")"
   ]
  },
  {
   "cell_type": "code",
   "execution_count": 5,
   "metadata": {},
   "outputs": [
    {
     "name": "stderr",
     "output_type": "stream",
     "text": [
      "100%|██████████| 50.1M/50.1M [00:17<00:00, 2.87MB/s]\n"
     ]
    },
    {
     "data": {
      "text/plain": [
       "['data_goes\\\\OR_ABI-L2-MCMIPC-M3_G16_s20170590002504_e20170590005277_c20170590005368.nc']"
      ]
     },
     "execution_count": 5,
     "metadata": {},
     "output_type": "execute_result"
    }
   ],
   "source": [
    "# Download file\n",
    "filename = df.iloc[0][\"nc_filename\"]\n",
    "bucket = df.iloc[0][\"satellite\"]\n",
    "\n",
    "goesHelper.download(filename, bucket)"
   ]
  }
 ],
 "metadata": {
  "kernelspec": {
   "display_name": ".venv",
   "language": "python",
   "name": "python3"
  },
  "language_info": {
   "codemirror_mode": {
    "name": "ipython",
    "version": 3
   },
   "file_extension": ".py",
   "mimetype": "text/x-python",
   "name": "python",
   "nbconvert_exporter": "python",
   "pygments_lexer": "ipython3",
   "version": "3.9.13"
  }
 },
 "nbformat": 4,
 "nbformat_minor": 2
}
