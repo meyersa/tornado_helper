{
 "cells": [
  {
   "cell_type": "markdown",
   "metadata": {},
   "source": [
    "# Install the package"
   ]
  },
  {
   "cell_type": "code",
   "execution_count": null,
   "metadata": {},
   "outputs": [],
   "source": [
    "%pip install tornado_helper\n",
    "\n",
    "from importlib import reload\n",
    "import logging\n",
    "import sys \n",
    "\n",
    "reload(logging)\n",
    "logging.basicConfig(stream=sys.stdout, level=logging.DEBUG)"
   ]
  },
  {
   "cell_type": "markdown",
   "metadata": {},
   "source": [
    "# Import and utilize methods\n",
    "- `download` to download a link or file from a bucket\n",
    "- `upload` to upload to a bucket\n",
    "- `_unzip` to unzip a file\n",
    "- `_delete` to delete a file\n",
    "\n",
    "This class primarily serves as the base for others, providing methods they can use to download data"
   ]
  },
  {
   "cell_type": "code",
   "execution_count": null,
   "metadata": {},
   "outputs": [],
   "source": [
    "from tornado_helper.Helper import Helper\n",
    "\n",
    "testHelper = Helper()\n",
    "testHelper.download(\"https://google.com\")"
   ]
  }
 ],
 "metadata": {
  "kernelspec": {
   "display_name": ".venv",
   "language": "python",
   "name": "python3"
  },
  "language_info": {
   "codemirror_mode": {
    "name": "ipython",
    "version": 3
   },
   "file_extension": ".py",
   "mimetype": "text/x-python",
   "name": "python",
   "nbconvert_exporter": "python",
   "pygments_lexer": "ipython3",
   "version": "3.9.13"
  }
 },
 "nbformat": 4,
 "nbformat_minor": 2
}
